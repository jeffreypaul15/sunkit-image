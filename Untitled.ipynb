{
 "cells": [
  {
   "cell_type": "code",
   "execution_count": 1,
   "metadata": {},
   "outputs": [
    {
     "name": "stderr",
     "output_type": "stream",
     "text": [
      "/home/jeffrey/Documents/GSOC_2021/sunkit-image/sunkit_image/version.py:12: UserWarning: could not determine sunkit_image package version; this indicates a broken installation\n",
      "  warnings.warn(\n"
     ]
    }
   ],
   "source": [
    "from sunkit_image import radial\n",
    "from astropy import units as u\n",
    "import numpy as np"
   ]
  },
  {
   "cell_type": "code",
   "execution_count": 2,
   "metadata": {},
   "outputs": [
    {
     "name": "stdout",
     "output_type": "stream",
     "text": [
      "this is leb 1\n",
      "<class 'sunpy.map.sources.sdo.AIAMap'>\n"
     ]
    }
   ],
   "source": [
    "from sunpy.map import Map\n",
    "import sunpy.data.sample\n",
    "smap = Map(sunpy.data.sample.AIA_171_IMAGE)"
   ]
  },
  {
   "cell_type": "code",
   "execution_count": 6,
   "metadata": {},
   "outputs": [
    {
     "name": "stderr",
     "output_type": "stream",
     "text": [
      "<ipython-input-6-af4baa8f0951>:3: RankWarning: Polyfit may be poorly conditioned\n",
      "  ans = radial.fit_polynomial_to_log_radial_intensity(radii, np.asarray([1,2]), 2)\n"
     ]
    }
   ],
   "source": [
    "# fit_polynomial_to_log_radial_intensity\n",
    "radii = (0.001, 0.002) * u.R_sun\n",
    "ans = radial.fit_polynomial_to_log_radial_intensity(radii, np.asarray([1,2]), 2)"
   ]
  },
  {
   "cell_type": "code",
   "execution_count": 7,
   "metadata": {},
   "outputs": [
    {
     "ename": "SyntaxError",
     "evalue": "unexpected EOF while parsing (<ipython-input-7-24ce10c336dc>, line 1)",
     "output_type": "error",
     "traceback": [
      "\u001b[0;36m  File \u001b[0;32m\"<ipython-input-7-24ce10c336dc>\"\u001b[0;36m, line \u001b[0;32m1\u001b[0m\n\u001b[0;31m    z = np.polyfit(radii.to(u.R_sun).value, np.log(intensity), degree\u001b[0m\n\u001b[0m                                                                     ^\u001b[0m\n\u001b[0;31mSyntaxError\u001b[0m\u001b[0;31m:\u001b[0m unexpected EOF while parsing\n"
     ]
    }
   ],
   "source": [
    "z = np.polyfit(radii.to(u.R_sun).value, np.log(intensity), degree"
   ]
  },
  {
   "cell_type": "code",
   "execution_count": 8,
   "metadata": {},
   "outputs": [
    {
     "data": {
      "text/plain": [
       "array([0.001, 0.002])"
      ]
     },
     "execution_count": 8,
     "metadata": {},
     "output_type": "execute_result"
    }
   ],
   "source": [
    "radii.to(u.R_sun).value"
   ]
  },
  {
   "cell_type": "code",
   "execution_count": 9,
   "metadata": {},
   "outputs": [
    {
     "name": "stdout",
     "output_type": "stream",
     "text": [
      "azure-pipelines.yml  examples\t  pyproject.toml   setup.py\r\n",
      "changelog\t     LICENSE.rst  README.rst\t   sunkit_image\r\n",
      "CHANGELOG.rst\t     licenses\t  readthedocs.yml  tox.ini\r\n",
      "docs\t\t     MANIFEST.in  setup.cfg\t   Untitled.ipynb\r\n"
     ]
    }
   ],
   "source": [
    "!ls"
   ]
  },
  {
   "cell_type": "code",
   "execution_count": 10,
   "metadata": {},
   "outputs": [
    {
     "data": {
      "text/plain": [
       "array([ 1.88139949e+05,  1.28727334e+02, -3.16867283e-01])"
      ]
     },
     "execution_count": 10,
     "metadata": {},
     "output_type": "execute_result"
    }
   ],
   "source": [
    "np.asarray([ 1.88139949e+05,  1.28727334e+02, -3.16867283e-01])"
   ]
  },
  {
   "cell_type": "code",
   "execution_count": 11,
   "metadata": {},
   "outputs": [],
   "source": [
    "polynomial = np.asarray([1, 2, 3])"
   ]
  },
  {
   "cell_type": "code",
   "execution_count": 12,
   "metadata": {},
   "outputs": [],
   "source": [
    "z = np.poly1d(polynomial)"
   ]
  },
  {
   "cell_type": "code",
   "execution_count": 13,
   "metadata": {},
   "outputs": [
    {
     "data": {
      "text/plain": [
       "True"
      ]
     },
     "execution_count": 13,
     "metadata": {},
     "output_type": "execute_result"
    }
   ],
   "source": [
    "np.poly1d(z) == z"
   ]
  },
  {
   "cell_type": "code",
   "execution_count": 14,
   "metadata": {},
   "outputs": [
    {
     "data": {
      "text/plain": [
       "array([20.12576832, 20.16612063])"
      ]
     },
     "execution_count": 14,
     "metadata": {},
     "output_type": "execute_result"
    }
   ],
   "source": [
    "np.exp(np.poly1d(polynomial)(radii.to(u.R_sun).value))"
   ]
  },
  {
   "cell_type": "code",
   "execution_count": 15,
   "metadata": {},
   "outputs": [
    {
     "data": {
      "text/plain": [
       "array([0.001, 0.002])"
      ]
     },
     "execution_count": 15,
     "metadata": {},
     "output_type": "execute_result"
    }
   ],
   "source": [
    "radii.to(u.R_sun).value"
   ]
  },
  {
   "cell_type": "code",
   "execution_count": 16,
   "metadata": {},
   "outputs": [
    {
     "data": {
      "text/plain": [
       "array([0.99600002, 0.99799701])"
      ]
     },
     "execution_count": 16,
     "metadata": {},
     "output_type": "execute_result"
    }
   ],
   "source": [
    "radial.normalize_fit_radial_intensity(radii, polynomial, 0.003*u.R_sun)"
   ]
  },
  {
   "cell_type": "code",
   "execution_count": 22,
   "metadata": {},
   "outputs": [
    {
     "data": {
      "text/plain": [
       "array([ 6.93147181e+02, -6.93147181e-01])"
      ]
     },
     "execution_count": 22,
     "metadata": {},
     "output_type": "execute_result"
    }
   ],
   "source": [
    "intensity = np.asarray([1, 2])\n",
    "degree = 2\n",
    "np.polyfit(radii.to(u.R_sun).value, np.log(intensity), 1)"
   ]
  },
  {
   "cell_type": "code",
   "execution_count": null,
   "metadata": {},
   "outputs": [],
   "source": []
  },
  {
   "cell_type": "code",
   "execution_count": 2,
   "metadata": {},
   "outputs": [],
   "source": [
    "from sunkit_image.utils import (\n",
    "    bin_edge_summary,\n",
    "    equally_spaced_bins,\n",
    "    find_pixel_radii,\n",
    "    get_radial_intensity_summary,\n",
    ")"
   ]
  },
  {
   "cell_type": "code",
   "execution_count": null,
   "metadata": {},
   "outputs": [],
   "source": []
  },
  {
   "cell_type": "code",
   "execution_count": 3,
   "metadata": {},
   "outputs": [],
   "source": [
    "\n",
    "import numpy as np"
   ]
  },
  {
   "cell_type": "code",
   "execution_count": null,
   "metadata": {},
   "outputs": [],
   "source": []
  },
  {
   "cell_type": "code",
   "execution_count": 4,
   "metadata": {},
   "outputs": [],
   "source": [
    "from sunkit_image.utils import equally_spaced_bins, get_radial_intensity_summary, find_pixel_radii"
   ]
  },
  {
   "cell_type": "code",
   "execution_count": 5,
   "metadata": {},
   "outputs": [
    {
     "name": "stdout",
     "output_type": "stream",
     "text": [
      "this is leb 1\n",
      "<class 'sunpy.map.mapbase.GenericMap'>\n"
     ]
    }
   ],
   "source": [
    "import numpy as np\n",
    "import pytest\n",
    "\n",
    "import astropy.units as u\n",
    "import sunpy\n",
    "import sunpy.data.sample\n",
    "import sunpy.map\n",
    "\n",
    "import sunkit_image.radial as rad\n",
    "import sunkit_image.utils as utils\n",
    "from sunkit_image.tests.helpers import figure_test\n",
    "\n",
    "x = np.linspace(-2, 2, 5)\n",
    "grid = np.meshgrid(x, x.T)\n",
    "test_data1 = np.sqrt(grid[0] ** 2 + grid[1] ** 2)\n",
    "test_data1 *= 10\n",
    "test_data1 = 28 - test_data1\n",
    "test_data1 = np.round(test_data1)\n",
    "header = {\"cunit1\": \"arcsec\", \"cunit2\": \"arcsec\", \"CTYPE1\": \"HPLN-TAN\", \"CTYPE2\": \"HPLT-TAN\"}\n",
    "smap = sunpy.map.Map((test_data1, header))"
   ]
  },
  {
   "cell_type": "code",
   "execution_count": 6,
   "metadata": {},
   "outputs": [
    {
     "name": "stderr",
     "output_type": "stream",
     "text": [
      "WARNING: SunpyUserWarning: Missing metadata for solar angular radius: assuming photospheric limb as seen from observer coordinate. [sunpy.map.mapbase]\n",
      "/home/jeffrey/.local/lib/python3.8/site-packages/sunpy/map/mapbase.py:909: SunpyMetadataWarning: Missing metadata for observer: assuming Earth-based observer.\n",
      "\n",
      "  dsun = self.dsun\n",
      "WARNING: SunpyUserWarning: Missing metadata for observation time, setting observation time to current time. Set the 'DATE-OBS' FITS keyword to prevent this warning. [sunpy.map.mapbase]\n",
      "/home/jeffrey/.local/lib/python3.8/site-packages/sunpy/util/decorators.py:378: SunpyMetadataWarning: Missing metadata for observer: assuming Earth-based observer.\n",
      "\n",
      "  new_val = prop(instance)\n",
      "WARNING: SunpyUserWarning: Missing metadata for solar angular radius: assuming photospheric limb as seen from observer coordinate. [sunpy.map.mapbase]\n",
      "/home/jeffrey/.local/lib/python3.8/site-packages/sunpy/map/mapbase.py:909: SunpyMetadataWarning: Missing metadata for observer: assuming Earth-based observer.\n",
      "\n",
      "  dsun = self.dsun\n"
     ]
    }
   ],
   "source": [
    "degree = 1\n",
    "fit_range=[1, 1.5] * u.R_sun\n",
    "normalization_radius=1 * u.R_sun\n",
    "summarize_bin_edges=\"center\"\n",
    "radial_bin_edges = u.Quantity(equally_spaced_bins())*u.R_sun\n",
    "# summary=np.mean\n",
    "# scale=None\n",
    "\n",
    "\n",
    "radial_intensity = get_radial_intensity_summary(\n",
    "        smap, radial_bin_edges, scale=1* smap.rsun_obs\n",
    "    )\n",
    "\n",
    "map_r = find_pixel_radii(smap).to(u.R_sun)\n",
    "\n",
    "radial_bin_summary = bin_edge_summary(radial_bin_edges, summarize_bin_edges).to(u.R_sun)\n",
    "\n",
    "\n",
    "fit_here = np.logical_and(\n",
    "        fit_range[0].to(u.R_sun).value <= radial_bin_summary.to(u.R_sun).value,\n",
    "        radial_bin_summary.to(u.R_sun).value <= fit_range[1].to(u.R_sun).value,\n",
    "    )\n",
    "\n",
    "polynomial = rad.fit_polynomial_to_log_radial_intensity(\n",
    "        radial_bin_summary[fit_here], radial_intensity[fit_here], degree\n",
    "    )\n",
    "\n",
    "normalization_radii = (0.003) * u.R_sun\n",
    "enhancement = 1 / radial.normalize_fit_radial_intensity(map_r, polynomial, normalization_radii)\n",
    "enhancement[map_r < normalization_radii] = 1"
   ]
  },
  {
   "cell_type": "code",
   "execution_count": 7,
   "metadata": {},
   "outputs": [
    {
     "name": "stdout",
     "output_type": "stream",
     "text": [
      "this is leb 1\n",
      "<class 'sunpy.map.mapbase.GenericMap'>\n"
     ]
    }
   ],
   "source": [
    "ass = sunpy.map.Map(smap.data * enhancement, smap.meta)"
   ]
  },
  {
   "cell_type": "code",
   "execution_count": 8,
   "metadata": {},
   "outputs": [
    {
     "name": "stderr",
     "output_type": "stream",
     "text": [
      "WARNING: SunpyUserWarning: Missing metadata for observation time, setting observation time to current time. Set the 'DATE-OBS' FITS keyword to prevent this warning. [sunpy.map.mapbase]\n",
      "/home/jeffrey/.local/lib/python3.8/site-packages/sunpy/util/decorators.py:378: SunpyMetadataWarning: Missing metadata for observer: assuming Earth-based observer.\n",
      "\n",
      "  new_val = prop(instance)\n"
     ]
    },
    {
     "data": {
      "text/plain": [
       "<matplotlib.image.AxesImage at 0x7f995bce2e20>"
      ]
     },
     "execution_count": 8,
     "metadata": {},
     "output_type": "execute_result"
    },
    {
     "data": {
      "image/png": "[encoded data removed]",
      "text/plain": [
       "<Figure size 432x288 with 1 Axes>"
      ]
     },
     "metadata": {
      "needs_background": "light"
     },
     "output_type": "display_data"
    }
   ],
   "source": [
    "ass.plot(clip_interval=(1,99)*u.percent)"
   ]
  },
  {
   "cell_type": "code",
   "execution_count": null,
   "metadata": {},
   "outputs": [],
   "source": [
    "\n",
    "\n",
    "def test_fit_polynomial_to_log_radial_intensity():\n",
    "\n",
    "    radii = (0.001, 0.002) * u.R_sun\n",
    "    intensity = np.asarray([1, 2])\n",
    "    degree = 2\n",
    "    expected = np.polyfit(radii.to(u.R_sun).value, np.log(intensity), degree)\n",
    "\n",
    "    assert np.allclose(\n",
    "        rad.fit_polynomial_to_log_radial_intensity(\n",
    "            radii, intensity, degree), expected)\n",
    "\n",
    "\n",
    "def test_calculate_fit_radial_intensity():\n",
    "\n",
    "    polynomial = np.asarray([1, 2, 3])\n",
    "    radii = (0.001, 0.002) * u.R_sun\n",
    "    expected = np.exp(np.poly1d(polynomial)(radii.to(u.R_sun).value))\n",
    "\n",
    "    assert np.allclose(\n",
    "        rad.calculate_fit_radial_intensity(\n",
    "            radii, polynomial), expected)\n",
    "\n",
    "\n",
    "def test_normalize_fit_radial_intensity():\n",
    "    polynomial = np.asarray([1, 2, 3])\n",
    "    radii = (0.001, 0.002) * u.R_sun\n",
    "    normalization_radii = (0.003, 0.004) * u.R_sun\n",
    "    expected = rad.calculate_fit_radial_intensity(\n",
    "        radii, polynomial) / rad.calculate_fit_radial_intensity(normalization_radii, polynomial)\n",
    "\n",
    "    assert np.allclose(\n",
    "        rad.normalize_fit_radial_intensity(radii, polynomial, normalization_radii), expected)\n"
   ]
  }
 ],
 "metadata": {
  "kernelspec": {
   "display_name": "Python 3",
   "language": "python",
   "name": "python3"
  },
  "language_info": {
   "codemirror_mode": {
    "name": "ipython",
    "version": 3
   },
   "file_extension": ".py",
   "mimetype": "text/x-python",
   "name": "python",
   "nbconvert_exporter": "python",
   "pygments_lexer": "ipython3",
   "version": "3.8.5"
  }
 },
 "nbformat": 4,
 "nbformat_minor": 4
}
